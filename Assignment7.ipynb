{
 "cells": [
  {
   "cell_type": "markdown",
   "metadata": {},
   "source": [
    "# IS362_Week 7"
   ]
  },
  {
   "cell_type": "code",
   "execution_count": 37,
   "metadata": {},
   "outputs": [],
   "source": [
    "import pandas as pd\n",
    "import numpy as np"
   ]
  },
  {
   "cell_type": "markdown",
   "metadata": {},
   "source": [
    "I created Movies.csv file in Excel and then I loaded the\n",
    "information into a pandas dataframe"
   ]
  },
  {
   "cell_type": "code",
   "execution_count": 38,
   "metadata": {},
   "outputs": [
    {
     "data": {
      "text/html": [
       "<div>\n",
       "<style scoped>\n",
       "    .dataframe tbody tr th:only-of-type {\n",
       "        vertical-align: middle;\n",
       "    }\n",
       "\n",
       "    .dataframe tbody tr th {\n",
       "        vertical-align: top;\n",
       "    }\n",
       "\n",
       "    .dataframe thead th {\n",
       "        text-align: right;\n",
       "    }\n",
       "</style>\n",
       "<table border=\"1\" class=\"dataframe\">\n",
       "  <thead>\n",
       "    <tr style=\"text-align: right;\">\n",
       "      <th></th>\n",
       "      <th>Students</th>\n",
       "      <th>Creed2</th>\n",
       "      <th>IT</th>\n",
       "      <th>Bohemian_Rhapsody</th>\n",
       "      <th>Fantastic_beasts2</th>\n",
       "      <th>Aquaman</th>\n",
       "      <th>Venom</th>\n",
       "    </tr>\n",
       "  </thead>\n",
       "  <tbody>\n",
       "    <tr>\n",
       "      <th>0</th>\n",
       "      <td>Mike</td>\n",
       "      <td>3</td>\n",
       "      <td>3</td>\n",
       "      <td>4</td>\n",
       "      <td>4</td>\n",
       "      <td>5</td>\n",
       "      <td>4</td>\n",
       "    </tr>\n",
       "    <tr>\n",
       "      <th>1</th>\n",
       "      <td>Andrey</td>\n",
       "      <td>2</td>\n",
       "      <td>4</td>\n",
       "      <td>4</td>\n",
       "      <td>4</td>\n",
       "      <td>4</td>\n",
       "      <td>3</td>\n",
       "    </tr>\n",
       "    <tr>\n",
       "      <th>2</th>\n",
       "      <td>Nick</td>\n",
       "      <td>4</td>\n",
       "      <td>3</td>\n",
       "      <td>0</td>\n",
       "      <td>3</td>\n",
       "      <td>4</td>\n",
       "      <td>4</td>\n",
       "    </tr>\n",
       "    <tr>\n",
       "      <th>3</th>\n",
       "      <td>Kate</td>\n",
       "      <td>0</td>\n",
       "      <td>3</td>\n",
       "      <td>5</td>\n",
       "      <td>4</td>\n",
       "      <td>0</td>\n",
       "      <td>3</td>\n",
       "    </tr>\n",
       "    <tr>\n",
       "      <th>4</th>\n",
       "      <td>Kristin</td>\n",
       "      <td>2</td>\n",
       "      <td>0</td>\n",
       "      <td>4</td>\n",
       "      <td>0</td>\n",
       "      <td>5</td>\n",
       "      <td>3</td>\n",
       "    </tr>\n",
       "    <tr>\n",
       "      <th>5</th>\n",
       "      <td>Evelyn</td>\n",
       "      <td>3</td>\n",
       "      <td>3</td>\n",
       "      <td>0</td>\n",
       "      <td>4</td>\n",
       "      <td>5</td>\n",
       "      <td>0</td>\n",
       "    </tr>\n",
       "  </tbody>\n",
       "</table>\n",
       "</div>"
      ],
      "text/plain": [
       "  Students  Creed2  IT  Bohemian_Rhapsody  Fantastic_beasts2  Aquaman  Venom\n",
       "0     Mike       3   3                  4                  4        5      4\n",
       "1   Andrey       2   4                  4                  4        4      3\n",
       "2     Nick       4   3                  0                  3        4      4\n",
       "3     Kate       0   3                  5                  4        0      3\n",
       "4  Kristin       2   0                  4                  0        5      3\n",
       "5   Evelyn       3   3                  0                  4        5      0"
      ]
     },
     "execution_count": 38,
     "metadata": {},
     "output_type": "execute_result"
    }
   ],
   "source": [
    "movies = pd.read_csv(\"Movies.csv\")\n",
    "movies"
   ]
  },
  {
   "cell_type": "markdown",
   "metadata": {},
   "source": [
    "I found average ratings for each movie"
   ]
  },
  {
   "cell_type": "code",
   "execution_count": 45,
   "metadata": {},
   "outputs": [
    {
     "data": {
      "text/plain": [
       "Creed2               2.333333\n",
       "IT                   2.666667\n",
       "Bohemian_Rhapsody    2.833333\n",
       "Fantastic_beasts2    3.166667\n",
       "Aquaman              3.833333\n",
       "Venom                2.833333\n",
       "dtype: float64"
      ]
     },
     "execution_count": 45,
     "metadata": {},
     "output_type": "execute_result"
    }
   ],
   "source": [
    "movies.mean(axis=0)"
   ]
  },
  {
   "cell_type": "markdown",
   "metadata": {},
   "source": [
    "I found average ratings for each user"
   ]
  },
  {
   "cell_type": "code",
   "execution_count": 41,
   "metadata": {},
   "outputs": [
    {
     "data": {
      "text/plain": [
       "Students\n",
       "Mike       3.833333\n",
       "Andrey     3.500000\n",
       "Nick       3.000000\n",
       "Kate       2.500000\n",
       "Kristin    2.333333\n",
       "Evelyn     2.500000\n",
       "dtype: float64"
      ]
     },
     "execution_count": 41,
     "metadata": {},
     "output_type": "execute_result"
    }
   ],
   "source": [
    "movies = movies.set_index('Students')\n",
    "movies.mean(axis=1)"
   ]
  },
  {
   "cell_type": "markdown",
   "metadata": {},
   "source": [
    "I created a new pandas dataframe, with normalized ratings for each user"
   ]
  },
  {
   "cell_type": "code",
   "execution_count": 42,
   "metadata": {},
   "outputs": [
    {
     "data": {
      "text/html": [
       "<div>\n",
       "<style scoped>\n",
       "    .dataframe tbody tr th:only-of-type {\n",
       "        vertical-align: middle;\n",
       "    }\n",
       "\n",
       "    .dataframe tbody tr th {\n",
       "        vertical-align: top;\n",
       "    }\n",
       "\n",
       "    .dataframe thead th {\n",
       "        text-align: right;\n",
       "    }\n",
       "</style>\n",
       "<table border=\"1\" class=\"dataframe\">\n",
       "  <thead>\n",
       "    <tr style=\"text-align: right;\">\n",
       "      <th></th>\n",
       "      <th>Creed2</th>\n",
       "      <th>IT</th>\n",
       "      <th>Bohemian_Rhapsody</th>\n",
       "      <th>Fantastic_beasts2</th>\n",
       "      <th>Aquaman</th>\n",
       "      <th>Venom</th>\n",
       "    </tr>\n",
       "    <tr>\n",
       "      <th>Students</th>\n",
       "      <th></th>\n",
       "      <th></th>\n",
       "      <th></th>\n",
       "      <th></th>\n",
       "      <th></th>\n",
       "      <th></th>\n",
       "    </tr>\n",
       "  </thead>\n",
       "  <tbody>\n",
       "    <tr>\n",
       "      <th>Mike</th>\n",
       "      <td>0.75</td>\n",
       "      <td>0.75</td>\n",
       "      <td>0.8</td>\n",
       "      <td>1.00</td>\n",
       "      <td>1.0</td>\n",
       "      <td>1.00</td>\n",
       "    </tr>\n",
       "    <tr>\n",
       "      <th>Andrey</th>\n",
       "      <td>0.50</td>\n",
       "      <td>1.00</td>\n",
       "      <td>0.8</td>\n",
       "      <td>1.00</td>\n",
       "      <td>0.8</td>\n",
       "      <td>0.75</td>\n",
       "    </tr>\n",
       "    <tr>\n",
       "      <th>Nick</th>\n",
       "      <td>1.00</td>\n",
       "      <td>0.75</td>\n",
       "      <td>0.0</td>\n",
       "      <td>0.75</td>\n",
       "      <td>0.8</td>\n",
       "      <td>1.00</td>\n",
       "    </tr>\n",
       "    <tr>\n",
       "      <th>Kate</th>\n",
       "      <td>0.00</td>\n",
       "      <td>0.75</td>\n",
       "      <td>1.0</td>\n",
       "      <td>1.00</td>\n",
       "      <td>0.0</td>\n",
       "      <td>0.75</td>\n",
       "    </tr>\n",
       "    <tr>\n",
       "      <th>Kristin</th>\n",
       "      <td>0.50</td>\n",
       "      <td>0.00</td>\n",
       "      <td>0.8</td>\n",
       "      <td>0.00</td>\n",
       "      <td>1.0</td>\n",
       "      <td>0.75</td>\n",
       "    </tr>\n",
       "    <tr>\n",
       "      <th>Evelyn</th>\n",
       "      <td>0.75</td>\n",
       "      <td>0.75</td>\n",
       "      <td>0.0</td>\n",
       "      <td>1.00</td>\n",
       "      <td>1.0</td>\n",
       "      <td>0.00</td>\n",
       "    </tr>\n",
       "  </tbody>\n",
       "</table>\n",
       "</div>"
      ],
      "text/plain": [
       "          Creed2    IT  Bohemian_Rhapsody  Fantastic_beasts2  Aquaman  Venom\n",
       "Students                                                                    \n",
       "Mike        0.75  0.75                0.8               1.00      1.0   1.00\n",
       "Andrey      0.50  1.00                0.8               1.00      0.8   0.75\n",
       "Nick        1.00  0.75                0.0               0.75      0.8   1.00\n",
       "Kate        0.00  0.75                1.0               1.00      0.0   0.75\n",
       "Kristin     0.50  0.00                0.8               0.00      1.0   0.75\n",
       "Evelyn      0.75  0.75                0.0               1.00      1.0   0.00"
      ]
     },
     "execution_count": 42,
     "metadata": {},
     "output_type": "execute_result"
    }
   ],
   "source": [
    "norm_movies = (movies - movies.min()) / (movies.max() - movies.min())\n",
    "norm_movies"
   ]
  },
  {
   "cell_type": "markdown",
   "metadata": {},
   "source": [
    "And again I found average ratings for each user "
   ]
  },
  {
   "cell_type": "code",
   "execution_count": 35,
   "metadata": {},
   "outputs": [
    {
     "data": {
      "text/plain": [
       "Students\n",
       "Mike       0.883333\n",
       "Andrey     0.808333\n",
       "Nick       0.716667\n",
       "Kate       0.583333\n",
       "Kristin    0.508333\n",
       "Evelyn     0.583333\n",
       "dtype: float64"
      ]
     },
     "execution_count": 35,
     "metadata": {},
     "output_type": "execute_result"
    }
   ],
   "source": [
    "norm_movies_mean = norm_movies.mean(axis=1)\n",
    "norm_movies_mean"
   ]
  },
  {
   "cell_type": "markdown",
   "metadata": {},
   "source": [
    "And again I found average ratings for each movie"
   ]
  },
  {
   "cell_type": "code",
   "execution_count": 43,
   "metadata": {},
   "outputs": [
    {
     "data": {
      "text/plain": [
       "Creed2               0.583333\n",
       "IT                   0.666667\n",
       "Bohemian_Rhapsody    0.566667\n",
       "Fantastic_beasts2    0.791667\n",
       "Aquaman              0.766667\n",
       "Venom                0.708333\n",
       "dtype: float64"
      ]
     },
     "execution_count": 43,
     "metadata": {},
     "output_type": "execute_result"
    }
   ],
   "source": [
    "norm_movies_mean = norm_movies.mean(axis=0)\n",
    "norm_movies_mean"
   ]
  },
  {
   "cell_type": "markdown",
   "metadata": {},
   "source": [
    "In our assignment we were trying to get more linear format with normalized ratings for each user. Data is more visual and better for analyzing. At the same time it lower some of the numbers for favorit movies, and we got absolutely new ranks of average retings for each movie.  "
   ]
  },
  {
   "cell_type": "markdown",
   "metadata": {},
   "source": [
    "Extra credit: Standardization"
   ]
  },
  {
   "cell_type": "code",
   "execution_count": 44,
   "metadata": {},
   "outputs": [
    {
     "data": {
      "text/html": [
       "<div>\n",
       "<style scoped>\n",
       "    .dataframe tbody tr th:only-of-type {\n",
       "        vertical-align: middle;\n",
       "    }\n",
       "\n",
       "    .dataframe tbody tr th {\n",
       "        vertical-align: top;\n",
       "    }\n",
       "\n",
       "    .dataframe thead th {\n",
       "        text-align: right;\n",
       "    }\n",
       "</style>\n",
       "<table border=\"1\" class=\"dataframe\">\n",
       "  <thead>\n",
       "    <tr style=\"text-align: right;\">\n",
       "      <th></th>\n",
       "      <th>Creed2</th>\n",
       "      <th>IT</th>\n",
       "      <th>Bohemian_Rhapsody</th>\n",
       "      <th>Fantastic_beasts2</th>\n",
       "      <th>Aquaman</th>\n",
       "      <th>Venom</th>\n",
       "    </tr>\n",
       "    <tr>\n",
       "      <th>Students</th>\n",
       "      <th></th>\n",
       "      <th></th>\n",
       "      <th></th>\n",
       "      <th></th>\n",
       "      <th></th>\n",
       "      <th></th>\n",
       "    </tr>\n",
       "  </thead>\n",
       "  <tbody>\n",
       "    <tr>\n",
       "      <th>Mike</th>\n",
       "      <td>0.487950</td>\n",
       "      <td>0.243975</td>\n",
       "      <td>0.523497</td>\n",
       "      <td>0.520156</td>\n",
       "      <td>0.601130</td>\n",
       "      <td>0.792594</td>\n",
       "    </tr>\n",
       "    <tr>\n",
       "      <th>Andrey</th>\n",
       "      <td>-0.243975</td>\n",
       "      <td>0.975900</td>\n",
       "      <td>0.523497</td>\n",
       "      <td>0.520156</td>\n",
       "      <td>0.085876</td>\n",
       "      <td>0.113228</td>\n",
       "    </tr>\n",
       "    <tr>\n",
       "      <th>Nick</th>\n",
       "      <td>1.219875</td>\n",
       "      <td>0.243975</td>\n",
       "      <td>-1.271350</td>\n",
       "      <td>-0.104031</td>\n",
       "      <td>0.085876</td>\n",
       "      <td>0.792594</td>\n",
       "    </tr>\n",
       "    <tr>\n",
       "      <th>Kate</th>\n",
       "      <td>-1.707825</td>\n",
       "      <td>0.243975</td>\n",
       "      <td>0.972209</td>\n",
       "      <td>0.520156</td>\n",
       "      <td>-1.975140</td>\n",
       "      <td>0.113228</td>\n",
       "    </tr>\n",
       "    <tr>\n",
       "      <th>Kristin</th>\n",
       "      <td>-0.243975</td>\n",
       "      <td>-1.951800</td>\n",
       "      <td>0.523497</td>\n",
       "      <td>-1.976595</td>\n",
       "      <td>0.601130</td>\n",
       "      <td>0.113228</td>\n",
       "    </tr>\n",
       "    <tr>\n",
       "      <th>Evelyn</th>\n",
       "      <td>0.487950</td>\n",
       "      <td>0.243975</td>\n",
       "      <td>-1.271350</td>\n",
       "      <td>0.520156</td>\n",
       "      <td>0.601130</td>\n",
       "      <td>-1.924871</td>\n",
       "    </tr>\n",
       "  </tbody>\n",
       "</table>\n",
       "</div>"
      ],
      "text/plain": [
       "            Creed2        IT  Bohemian_Rhapsody  Fantastic_beasts2   Aquaman  \\\n",
       "Students                                                                       \n",
       "Mike      0.487950  0.243975           0.523497           0.520156  0.601130   \n",
       "Andrey   -0.243975  0.975900           0.523497           0.520156  0.085876   \n",
       "Nick      1.219875  0.243975          -1.271350          -0.104031  0.085876   \n",
       "Kate     -1.707825  0.243975           0.972209           0.520156 -1.975140   \n",
       "Kristin  -0.243975 -1.951800           0.523497          -1.976595  0.601130   \n",
       "Evelyn    0.487950  0.243975          -1.271350           0.520156  0.601130   \n",
       "\n",
       "             Venom  \n",
       "Students            \n",
       "Mike      0.792594  \n",
       "Andrey    0.113228  \n",
       "Nick      0.792594  \n",
       "Kate      0.113228  \n",
       "Kristin   0.113228  \n",
       "Evelyn   -1.924871  "
      ]
     },
     "execution_count": 44,
     "metadata": {},
     "output_type": "execute_result"
    }
   ],
   "source": [
    "st_movies = (movies - movies.mean()) / (movies.std())\n",
    "st_movies"
   ]
  },
  {
   "cell_type": "markdown",
   "metadata": {},
   "source": [
    "I found average ratings for each user"
   ]
  },
  {
   "cell_type": "code",
   "execution_count": 46,
   "metadata": {},
   "outputs": [
    {
     "data": {
      "text/plain": [
       "Students\n",
       "Mike       0.528217\n",
       "Andrey     0.329114\n",
       "Nick       0.161156\n",
       "Kate      -0.305566\n",
       "Kristin   -0.489086\n",
       "Evelyn    -0.223835\n",
       "dtype: float64"
      ]
     },
     "execution_count": 46,
     "metadata": {},
     "output_type": "execute_result"
    }
   ],
   "source": [
    "st_movies.mean(axis=1)"
   ]
  },
  {
   "cell_type": "markdown",
   "metadata": {},
   "source": [
    "I found average ratings for each user"
   ]
  },
  {
   "cell_type": "code",
   "execution_count": 47,
   "metadata": {},
   "outputs": [
    {
     "data": {
      "text/plain": [
       "Creed2              -9.251859e-17\n",
       "IT                   7.401487e-17\n",
       "Bohemian_Rhapsody   -1.110223e-16\n",
       "Fantastic_beasts2    1.480297e-16\n",
       "Aquaman             -3.700743e-17\n",
       "Venom               -7.401487e-17\n",
       "dtype: float64"
      ]
     },
     "execution_count": 47,
     "metadata": {},
     "output_type": "execute_result"
    }
   ],
   "source": [
    "st_movies.mean(axis=0)"
   ]
  }
 ],
 "metadata": {
  "kernelspec": {
   "display_name": "Python 3",
   "language": "python",
   "name": "python3"
  },
  "language_info": {
   "codemirror_mode": {
    "name": "ipython",
    "version": 3
   },
   "file_extension": ".py",
   "mimetype": "text/x-python",
   "name": "python",
   "nbconvert_exporter": "python",
   "pygments_lexer": "ipython3",
   "version": "3.7.1"
  }
 },
 "nbformat": 4,
 "nbformat_minor": 2
}
